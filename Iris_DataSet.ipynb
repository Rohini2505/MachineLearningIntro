{
 "metadata": {
  "name": "",
  "signature": "sha256:24c974c447a92ed985a5378a51604827686d771bd0d7810f56dac32bfc24fa7c"
 },
 "nbformat": 3,
 "nbformat_minor": 0,
 "worksheets": [
  {
   "cells": [
    {
     "cell_type": "markdown",
     "metadata": {},
     "source": [
      "What is a dataset?\n",
      "===\n",
      "A dataset is a collection of information (or data) that can be used by a computer. A dataset typically has some number of examples, where each example has features associated with it. Some datasets also include labels, which is an identifying piece of information that is of interest.\n",
      "\n",
      "What is an example?\n",
      "---\n",
      "An example is one element of a dataset, typically a single row in the dataset (similar to a row in a table). Multiple examples are used to generalize trends. For example, when predicting the list price of a house, each house would be considered an example.\n",
      "\n",
      "What is a feature?\n",
      "---\n",
      "A feature is a piece of information about an example that can be used by a computer. Examples of features include: the square footage of a house, the number of bedrooms, or the number of bathrooms.\n",
      "\n",
      "What is a label?\n",
      "---\n",
      "A label identifies a piece of information about an example that is of particular interest. In machine learning, the label is the information we want the computer to learn to predict. In our housing example, the feature would be the list price of the house.\n"
     ]
    },
    {
     "cell_type": "markdown",
     "metadata": {},
     "source": [
      "The Iris Dataset\n",
      "===\n",
      "\n",
      "Here, we use the Iris dataset, available through scikit-learn. Scikit-learn's explanation of the dataset is [here](http://scikit-learn.org/stable/auto_examples/datasets/plot_iris_dataset.html).\n",
      "\n",
      "This dataset contains information on three species of iris flowers ([Setosa](http://en.wikipedia.org/wiki/Iris_setosa), [Versicolour](http://en.wikipedia.org/wiki/Iris_versicolor), and [Virginica](http://en.wikipedia.org/wiki/Iris_virginica). \n",
      "\n",
      "|<img src=\"Images/Setosa.jpg\" width=200>|<img src=\"Images/Versicolor.jpg\" width=200>|<img src=\"Images/Virginica.jpg\" width=200>|\n",
      "|:-------------------------------------:|:-----------------------------------------:|:----------------------------------------:|\n",
      "| Iris Setosa [source](http://en.wikipedia.org/wiki/Iris_setosa#mediaviewer/File:Kosaciec_szczecinkowaty_Iris_setosa.jpg)  | Iris Versicolour [source](http://en.wikipedia.org/wiki/Iris_versicolor#mediaviewer/File:Blue_Flag,_Ottawa.jpg) | Iris Virginica [source](http://en.wikipedia.org/wiki/Iris_virginica#mediaviewer/File:Iris_virginica.jpg) |\n",
      "\n",
      "Each example has four features (or measurements): [sepal](http://en.wikipedia.org/wiki/Sepal) length, sepal width, [petal](http://en.wikipedia.org/wiki/Petal) length, and petal width. All measurements are in cm.\n",
      "\n",
      "|<img src=\"Images/Petal-sepal.jpg\" width=200>|\n",
      "|:------------------------------------------:|\n",
      "|Petal and sepal of a primrose plant. From [wikipedia](http://en.wikipedia.org/wiki/Petal#mediaviewer/File:Petal-sepal.jpg)|\n",
      "\n",
      "\n",
      "Examples\n",
      "---\n",
      "The datasets consists of 150 examples, 50 examples from each species of iris.\n",
      "\n",
      "Features\n",
      "---\n",
      "The features are the columns of the dataset. In order from left to right (or 0-3) they are: sepal length, sepal width, petal length, and petal width\n",
      "\n",
      "Our goal\n",
      "===\n",
      "The goal, for this dataset, is to train a computer to predict the species of a new iris plant, given only the measured length and width of its sepal and petal."
     ]
    },
    {
     "cell_type": "markdown",
     "metadata": {},
     "source": [
      "Setup\n",
      "===\n",
      "Tell matplotlib to print figures in the notebook. Then import numpy (for numerical data), pylab (for plotting figures) ListedColormap (for plotting colors), and datasets (to download the iris dataset from scikit-learn).\n",
      "\n",
      "Also create the color maps to use to color the plotted data, and \"labelList\", which is a list of colored rectangles to use in plotted legends"
     ]
    },
    {
     "cell_type": "code",
     "collapsed": false,
     "input": [
      "# Print figures in the notebook\n",
      "%matplotlib inline \n",
      "\n",
      "print(__doc__)\n",
      "\n",
      "import numpy as np\n",
      "import pylab as pl\n",
      "from matplotlib.colors import ListedColormap\n",
      "from sklearn import datasets # Import the nerest neighbor function and dataset from scikit-learn\n",
      "\n",
      "# Import patch for drawing rectangles in the legend\n",
      "from matplotlib.patches import Rectangle\n",
      "\n",
      "# Create color maps\n",
      "cmap_bold = ListedColormap(['#FF0000', '#00FF00', '#0000FF'])\n",
      "\n",
      "# Create a legend for the colors, using rectangles for the corresponding colormap colors\n",
      "labelList = []\n",
      "for color in cmap_bold.colors:\n",
      "    labelList.append(Rectangle((0, 0), 1, 1, fc=color))"
     ],
     "language": "python",
     "metadata": {},
     "outputs": []
    },
    {
     "cell_type": "markdown",
     "metadata": {},
     "source": [
      "Import the dataset\n",
      "===\n",
      "Import the dataset and store it to a variable called iris. This dataset is similar to a python dictionary, with the keys: ['DESCR', 'target_names', 'target', 'data', 'feature_names']\n",
      "\n",
      "The data features are stored in iris.data, where each row is an example from a single flow, and each column is a single feature. The feature names are stored in iris.feature_names. Labels are stored as the numbers 0, 1, or 2 in iris.target, and the names of these labels are in iris.target_names."
     ]
    },
    {
     "cell_type": "code",
     "collapsed": false,
     "input": [
      "# Import some data to play with\n",
      "iris = datasets.load_iris()\n",
      "\n",
      "# List the data keys\n",
      "print('Keys: ' + str(iris.keys()))\n",
      "print('Label names: ' + str(iris.target_names))\n",
      "print('Feature names: ' + str(iris.feature_names))\n",
      "print('')\n",
      "\n",
      "# Store the labels (y), label names, features (X), and feature names\n",
      "y = iris.target       # Labels are stored in y as numbers\n",
      "labelNames = iris.target_names # Species names corresponding to labels 0, 1, and 2\n",
      "X = iris.data\n",
      "featureNames = iris.feature_names\n",
      "\n",
      "# Show the first five examples\n",
      "print(iris.data[1:5,:])"
     ],
     "language": "python",
     "metadata": {},
     "outputs": []
    },
    {
     "cell_type": "markdown",
     "metadata": {},
     "source": [
      "Visualizing the data\n",
      "===\n",
      "Visualizing the data can help us better understand the data and make use of it. The following block of code will create a plot of sepal length (x-axis) vs sepal width (y-axis). The colors of the datapoints correspond to the labeled species of iris for that example.\n",
      "\n",
      "After plotting, look at the data. What do you notice about the way it is arranged?"
     ]
    },
    {
     "cell_type": "code",
     "collapsed": false,
     "input": [
      "# Plot the data\n",
      "\n",
      "# Sepal length and width\n",
      "X_sepal = X[:,:2]\n",
      "# Get the minimum and maximum values with an additional 0.5 border\n",
      "x_min, x_max = X_sepal[:, 0].min() - .5, X_sepal[:, 0].max() + .5\n",
      "y_min, y_max = X_sepal[:, 1].min() - .5, X_sepal[:, 1].max() + .5\n",
      "\n",
      "pl.figure(figsize=(8, 6))\n",
      "\n",
      "# Plot the training points\n",
      "pl.scatter(X_sepal[:, 0], X_sepal[:, 1], c=y, cmap=cmap_bold)\n",
      "pl.xlabel('Sepal length (cm)')\n",
      "pl.ylabel('Sepal width (cm)')\n",
      "pl.title('Sepal width vs length')\n",
      "\n",
      "# Set the plot limits\n",
      "pl.xlim(x_min, x_max)\n",
      "pl.ylim(y_min, y_max)\n",
      "\n",
      "# pl.legend(cmap_bold.colors, labelNames)\n",
      "pl.legend(labelList, labelNames)\n",
      "\n",
      "pl.show()\n"
     ],
     "language": "python",
     "metadata": {},
     "outputs": []
    },
    {
     "cell_type": "markdown",
     "metadata": {},
     "source": [
      "Trying new things\n",
      "===\n",
      "Below, try making your own plots. First, modify the previous code to create a similar plot, showing the petal width vs the petal length. You can start by copying and pasting the previous block of code to the cell below, and modifying it to work.\n",
      "\n",
      "How is the data arranged differently? Do you think these additional features would be helpful in determining to which species of iris a new plant should be categorized?\n",
      "\n",
      "What about plotting other feature combinations, like petal length vs sepal length?"
     ]
    },
    {
     "cell_type": "code",
     "collapsed": false,
     "input": [
      "# Put your code here!"
     ],
     "language": "python",
     "metadata": {},
     "outputs": []
    },
    {
     "cell_type": "code",
     "collapsed": false,
     "input": [],
     "language": "python",
     "metadata": {},
     "outputs": []
    }
   ],
   "metadata": {}
  }
 ]
}